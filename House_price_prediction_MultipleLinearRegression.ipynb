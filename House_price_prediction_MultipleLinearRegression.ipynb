{
 "cells": [
  {
   "cell_type": "code",
   "execution_count": 1,
   "id": "f0b2781e",
   "metadata": {},
   "outputs": [],
   "source": [
    "import matplotlib.pyplot as plt\n",
    "\n",
    "import warnings\n",
    "from glob import glob #library that helps us search for files\n",
    "\n",
    "import numpy as np\n",
    "import pandas as pd\n",
    "import seaborn as sns\n",
    "from category_encoders import OneHotEncoder\n",
    "from sklearn.linear_model import LinearRegression, Ridge  \n",
    "from sklearn.metrics import mean_absolute_error\n",
    "from sklearn.pipeline import make_pipeline\n",
    "from sklearn.utils.validation import check_is_fitted\n",
    "from sklearn.metrics import accuracy_score\n",
    "from sklearn.impute import SimpleImputer\n",
    "\n",
    "\n",
    "warnings.simplefilter(action=\"ignore\", category=FutureWarning)\n"
   ]
  },
  {
   "cell_type": "code",
   "execution_count": 2,
   "id": "2ed94786",
   "metadata": {},
   "outputs": [],
   "source": [
    "def wrangle(filepath):\n",
    "    df=pd.read_excel(filepath)\n",
    "    \n",
    "    #to extract capital federal from place_with_parent_names column\n",
    "    df['state']=df['place_with_parent_names'].str.split('|',expand=True)[2]\n",
    "    \n",
    "\n",
    "    #subset apartments in capital federal less than $400,000\n",
    "    mask_price=df['price_aprox_usd']<400000.0\n",
    "    mask_state=df['state']=='Capital Federal'\n",
    "    mask_type=df['property_type']=='apartment'\n",
    "    df= df[mask_state & mask_type & mask_price ]\n",
    "        \n",
    "    #to remove outliers from surface_covered_in_m2\n",
    "    mini,maxi=df['surface_covered_in_m2'].quantile([0.1,0.9])\n",
    "    mask=df['surface_covered_in_m2'].between(mini,maxi)\n",
    "    df=df[mask]\n",
    "    \n",
    "    #separate lat-lon column\n",
    "    df[['lat','lon']]= df['lat-lon'].str.split(',',expand=True)\n",
    "    df.drop(['lat-lon'],axis=1,inplace=True)\n",
    "    df[['lat','lon']]=df[['lat','lon']].astype(float)\n",
    "    \n",
    "    #subset neighborhood\n",
    "    df['neighborhood']=df['place_with_parent_names'].str.split('|',expand=True)[3]\n",
    "    df.drop(['place_with_parent_names'],axis=1,inplace=True)\n",
    "    \n",
    "    #drop missing values\n",
    "    cols=df[['floor','expenses']]\n",
    "    df.drop(cols,axis=1,inplace=True)\n",
    "\n",
    "    #dropping columns with high and low cardinality\n",
    "    cols=df[['operation','properati_url','property_type','currency']]\n",
    "    df.drop(cols,axis=1,inplace=True)\n",
    "    \n",
    "    #dropping leaky columns\n",
    "    cols=df[['price','price_aprox_local_currency','price_per_m2','price_usd_per_m2',]]\n",
    "    df.drop(cols,axis=1,inplace=True)\n",
    "    \n",
    "    #dropping multicorrelated columns\n",
    "    df.drop(columns=['surface_total_in_m2','rooms'],inplace=True)\n",
    "    \n",
    "    return df\n",
    "    \n",
    "    "
   ]
  },
  {
   "cell_type": "code",
   "execution_count": 3,
   "id": "e1cd7f4f",
   "metadata": {},
   "outputs": [
    {
     "data": {
      "text/plain": [
       "['/Users/bambino/Documents/DATASETS\\\\Buenos-aires-1.xlsx',\n",
       " '/Users/bambino/Documents/DATASETS\\\\Buenos-aires-2.xlsx',\n",
       " '/Users/bambino/Documents/DATASETS\\\\Buenos-aires-3.xlsx',\n",
       " '/Users/bambino/Documents/DATASETS\\\\Buenos-aires-4.xlsx',\n",
       " '/Users/bambino/Documents/DATASETS\\\\Buenos-aires-5.xlsx']"
      ]
     },
     "execution_count": 3,
     "metadata": {},
     "output_type": "execute_result"
    }
   ],
   "source": [
    "#import files\n",
    "files=glob(\"/Users/bambino/Documents/DATASETS/Buenos-aires-*.xlsx\")\n",
    "files"
   ]
  },
  {
   "cell_type": "code",
   "execution_count": 4,
   "id": "9929f87a",
   "metadata": {},
   "outputs": [],
   "source": [
    "dataframes=[wrangle(i) for i in files]"
   ]
  },
  {
   "cell_type": "code",
   "execution_count": 5,
   "id": "eb107b10",
   "metadata": {},
   "outputs": [
    {
     "data": {
      "text/html": [
       "<div>\n",
       "<style scoped>\n",
       "    .dataframe tbody tr th:only-of-type {\n",
       "        vertical-align: middle;\n",
       "    }\n",
       "\n",
       "    .dataframe tbody tr th {\n",
       "        vertical-align: top;\n",
       "    }\n",
       "\n",
       "    .dataframe thead th {\n",
       "        text-align: right;\n",
       "    }\n",
       "</style>\n",
       "<table border=\"1\" class=\"dataframe\">\n",
       "  <thead>\n",
       "    <tr style=\"text-align: right;\">\n",
       "      <th></th>\n",
       "      <th>price_aprox_usd</th>\n",
       "      <th>surface_covered_in_m2</th>\n",
       "      <th>state</th>\n",
       "      <th>lat</th>\n",
       "      <th>lon</th>\n",
       "      <th>neighborhood</th>\n",
       "    </tr>\n",
       "  </thead>\n",
       "  <tbody>\n",
       "    <tr>\n",
       "      <th>4</th>\n",
       "      <td>129000.00</td>\n",
       "      <td>70.0</td>\n",
       "      <td>Capital Federal</td>\n",
       "      <td>-34.584651</td>\n",
       "      <td>-58.454693</td>\n",
       "      <td>Chacarita</td>\n",
       "    </tr>\n",
       "    <tr>\n",
       "      <th>9</th>\n",
       "      <td>87000.00</td>\n",
       "      <td>42.0</td>\n",
       "      <td>Capital Federal</td>\n",
       "      <td>-34.638979</td>\n",
       "      <td>-58.500115</td>\n",
       "      <td>Villa Luro</td>\n",
       "    </tr>\n",
       "    <tr>\n",
       "      <th>29</th>\n",
       "      <td>118000.00</td>\n",
       "      <td>54.0</td>\n",
       "      <td>Capital Federal</td>\n",
       "      <td>-34.615847</td>\n",
       "      <td>-58.459957</td>\n",
       "      <td>Caballito</td>\n",
       "    </tr>\n",
       "    <tr>\n",
       "      <th>40</th>\n",
       "      <td>57000.00</td>\n",
       "      <td>42.0</td>\n",
       "      <td>Capital Federal</td>\n",
       "      <td>-34.625222</td>\n",
       "      <td>-58.382382</td>\n",
       "      <td>Constitución</td>\n",
       "    </tr>\n",
       "    <tr>\n",
       "      <th>41</th>\n",
       "      <td>90000.00</td>\n",
       "      <td>50.0</td>\n",
       "      <td>Capital Federal</td>\n",
       "      <td>-34.610610</td>\n",
       "      <td>-58.412511</td>\n",
       "      <td>Once</td>\n",
       "    </tr>\n",
       "    <tr>\n",
       "      <th>...</th>\n",
       "      <td>...</td>\n",
       "      <td>...</td>\n",
       "      <td>...</td>\n",
       "      <td>...</td>\n",
       "      <td>...</td>\n",
       "      <td>...</td>\n",
       "    </tr>\n",
       "    <tr>\n",
       "      <th>8589</th>\n",
       "      <td>73536.95</td>\n",
       "      <td>42.0</td>\n",
       "      <td>Capital Federal</td>\n",
       "      <td>-34.631591</td>\n",
       "      <td>-58.370191</td>\n",
       "      <td>Barracas</td>\n",
       "    </tr>\n",
       "    <tr>\n",
       "      <th>8590</th>\n",
       "      <td>119000.00</td>\n",
       "      <td>41.0</td>\n",
       "      <td>Capital Federal</td>\n",
       "      <td>-34.604555</td>\n",
       "      <td>-58.418206</td>\n",
       "      <td>Almagro</td>\n",
       "    </tr>\n",
       "    <tr>\n",
       "      <th>8593</th>\n",
       "      <td>62000.00</td>\n",
       "      <td>43.0</td>\n",
       "      <td>Capital Federal</td>\n",
       "      <td>-34.624002</td>\n",
       "      <td>-58.390588</td>\n",
       "      <td>Barracas</td>\n",
       "    </tr>\n",
       "    <tr>\n",
       "      <th>8601</th>\n",
       "      <td>125000.00</td>\n",
       "      <td>70.0</td>\n",
       "      <td>Capital Federal</td>\n",
       "      <td>-34.601455</td>\n",
       "      <td>-58.378132</td>\n",
       "      <td>San Nicolás</td>\n",
       "    </tr>\n",
       "    <tr>\n",
       "      <th>8604</th>\n",
       "      <td>78000.00</td>\n",
       "      <td>52.0</td>\n",
       "      <td>Capital Federal</td>\n",
       "      <td>NaN</td>\n",
       "      <td>NaN</td>\n",
       "      <td>Boedo</td>\n",
       "    </tr>\n",
       "  </tbody>\n",
       "</table>\n",
       "<p>1343 rows × 6 columns</p>\n",
       "</div>"
      ],
      "text/plain": [
       "      price_aprox_usd  surface_covered_in_m2            state        lat  \\\n",
       "4           129000.00                   70.0  Capital Federal -34.584651   \n",
       "9            87000.00                   42.0  Capital Federal -34.638979   \n",
       "29          118000.00                   54.0  Capital Federal -34.615847   \n",
       "40           57000.00                   42.0  Capital Federal -34.625222   \n",
       "41           90000.00                   50.0  Capital Federal -34.610610   \n",
       "...               ...                    ...              ...        ...   \n",
       "8589         73536.95                   42.0  Capital Federal -34.631591   \n",
       "8590        119000.00                   41.0  Capital Federal -34.604555   \n",
       "8593         62000.00                   43.0  Capital Federal -34.624002   \n",
       "8601        125000.00                   70.0  Capital Federal -34.601455   \n",
       "8604         78000.00                   52.0  Capital Federal        NaN   \n",
       "\n",
       "            lon  neighborhood  \n",
       "4    -58.454693     Chacarita  \n",
       "9    -58.500115    Villa Luro  \n",
       "29   -58.459957     Caballito  \n",
       "40   -58.382382  Constitución  \n",
       "41   -58.412511          Once  \n",
       "...         ...           ...  \n",
       "8589 -58.370191      Barracas  \n",
       "8590 -58.418206       Almagro  \n",
       "8593 -58.390588      Barracas  \n",
       "8601 -58.378132   San Nicolás  \n",
       "8604        NaN         Boedo  \n",
       "\n",
       "[1343 rows x 6 columns]"
      ]
     },
     "execution_count": 5,
     "metadata": {},
     "output_type": "execute_result"
    }
   ],
   "source": [
    "dataframes[0]"
   ]
  },
  {
   "cell_type": "code",
   "execution_count": 6,
   "id": "bd090ec0",
   "metadata": {},
   "outputs": [],
   "source": [
    "#concatenate all dataframes into a single one\n",
    "df=pd.concat(dataframes)\n"
   ]
  },
  {
   "cell_type": "code",
   "execution_count": 7,
   "id": "452134d8",
   "metadata": {},
   "outputs": [
    {
     "data": {
      "text/html": [
       "<div>\n",
       "<style scoped>\n",
       "    .dataframe tbody tr th:only-of-type {\n",
       "        vertical-align: middle;\n",
       "    }\n",
       "\n",
       "    .dataframe tbody tr th {\n",
       "        vertical-align: top;\n",
       "    }\n",
       "\n",
       "    .dataframe thead th {\n",
       "        text-align: right;\n",
       "    }\n",
       "</style>\n",
       "<table border=\"1\" class=\"dataframe\">\n",
       "  <thead>\n",
       "    <tr style=\"text-align: right;\">\n",
       "      <th></th>\n",
       "      <th>price_aprox_usd</th>\n",
       "      <th>surface_covered_in_m2</th>\n",
       "      <th>state</th>\n",
       "      <th>lat</th>\n",
       "      <th>lon</th>\n",
       "      <th>neighborhood</th>\n",
       "      <th>Unnamed: 0</th>\n",
       "    </tr>\n",
       "  </thead>\n",
       "  <tbody>\n",
       "    <tr>\n",
       "      <th>4</th>\n",
       "      <td>129000.0</td>\n",
       "      <td>70.0</td>\n",
       "      <td>Capital Federal</td>\n",
       "      <td>-34.584651</td>\n",
       "      <td>-58.454693</td>\n",
       "      <td>Chacarita</td>\n",
       "      <td>NaN</td>\n",
       "    </tr>\n",
       "    <tr>\n",
       "      <th>9</th>\n",
       "      <td>87000.0</td>\n",
       "      <td>42.0</td>\n",
       "      <td>Capital Federal</td>\n",
       "      <td>-34.638979</td>\n",
       "      <td>-58.500115</td>\n",
       "      <td>Villa Luro</td>\n",
       "      <td>NaN</td>\n",
       "    </tr>\n",
       "    <tr>\n",
       "      <th>29</th>\n",
       "      <td>118000.0</td>\n",
       "      <td>54.0</td>\n",
       "      <td>Capital Federal</td>\n",
       "      <td>-34.615847</td>\n",
       "      <td>-58.459957</td>\n",
       "      <td>Caballito</td>\n",
       "      <td>NaN</td>\n",
       "    </tr>\n",
       "    <tr>\n",
       "      <th>40</th>\n",
       "      <td>57000.0</td>\n",
       "      <td>42.0</td>\n",
       "      <td>Capital Federal</td>\n",
       "      <td>-34.625222</td>\n",
       "      <td>-58.382382</td>\n",
       "      <td>Constitución</td>\n",
       "      <td>NaN</td>\n",
       "    </tr>\n",
       "    <tr>\n",
       "      <th>41</th>\n",
       "      <td>90000.0</td>\n",
       "      <td>50.0</td>\n",
       "      <td>Capital Federal</td>\n",
       "      <td>-34.610610</td>\n",
       "      <td>-58.412511</td>\n",
       "      <td>Once</td>\n",
       "      <td>NaN</td>\n",
       "    </tr>\n",
       "  </tbody>\n",
       "</table>\n",
       "</div>"
      ],
      "text/plain": [
       "    price_aprox_usd  surface_covered_in_m2            state        lat  \\\n",
       "4          129000.0                   70.0  Capital Federal -34.584651   \n",
       "9           87000.0                   42.0  Capital Federal -34.638979   \n",
       "29         118000.0                   54.0  Capital Federal -34.615847   \n",
       "40          57000.0                   42.0  Capital Federal -34.625222   \n",
       "41          90000.0                   50.0  Capital Federal -34.610610   \n",
       "\n",
       "          lon  neighborhood  Unnamed: 0  \n",
       "4  -58.454693     Chacarita         NaN  \n",
       "9  -58.500115    Villa Luro         NaN  \n",
       "29 -58.459957     Caballito         NaN  \n",
       "40 -58.382382  Constitución         NaN  \n",
       "41 -58.412511          Once         NaN  "
      ]
     },
     "execution_count": 7,
     "metadata": {},
     "output_type": "execute_result"
    }
   ],
   "source": [
    "df.head()"
   ]
  },
  {
   "cell_type": "code",
   "execution_count": 8,
   "id": "97a20146",
   "metadata": {},
   "outputs": [],
   "source": [
    "df.drop('Unnamed: 0',axis=1,inplace=True)"
   ]
  },
  {
   "cell_type": "code",
   "execution_count": 9,
   "id": "78ea9754",
   "metadata": {},
   "outputs": [
    {
     "name": "stdout",
     "output_type": "stream",
     "text": [
      "<class 'pandas.core.frame.DataFrame'>\n",
      "Int64Index: 6582 entries, 4 to 8597\n",
      "Data columns (total 6 columns):\n",
      " #   Column                 Non-Null Count  Dtype  \n",
      "---  ------                 --------------  -----  \n",
      " 0   price_aprox_usd        6582 non-null   float64\n",
      " 1   surface_covered_in_m2  6582 non-null   float64\n",
      " 2   state                  6582 non-null   object \n",
      " 3   lat                    6316 non-null   float64\n",
      " 4   lon                    6316 non-null   float64\n",
      " 5   neighborhood           6582 non-null   object \n",
      "dtypes: float64(4), object(2)\n",
      "memory usage: 360.0+ KB\n"
     ]
    }
   ],
   "source": [
    "df.info()"
   ]
  },
  {
   "cell_type": "code",
   "execution_count": 10,
   "id": "82868da3",
   "metadata": {},
   "outputs": [
    {
     "data": {
      "text/plain": [
       "<AxesSubplot:>"
      ]
     },
     "execution_count": 10,
     "metadata": {},
     "output_type": "execute_result"
    },
    {
     "data": {
      "image/png": "[encoded data removed]",
      "text/plain": [
       "<Figure size 1080x504 with 2 Axes>"
      ]
     },
     "metadata": {
      "needs_background": "light"
     },
     "output_type": "display_data"
    }
   ],
   "source": [
    "plt.figure(figsize=(15,7))\n",
    "sns.heatmap(df.corr(),annot=True)"
   ]
  },
  {
   "cell_type": "code",
   "execution_count": 11,
   "id": "45c2ec4e",
   "metadata": {},
   "outputs": [],
   "source": [
    "#check for categorical columns with high or low cardinality"
   ]
  },
  {
   "cell_type": "code",
   "execution_count": 12,
   "id": "333d9842",
   "metadata": {},
   "outputs": [
    {
     "data": {
      "text/html": [
       "<div>\n",
       "<style scoped>\n",
       "    .dataframe tbody tr th:only-of-type {\n",
       "        vertical-align: middle;\n",
       "    }\n",
       "\n",
       "    .dataframe tbody tr th {\n",
       "        vertical-align: top;\n",
       "    }\n",
       "\n",
       "    .dataframe thead th {\n",
       "        text-align: right;\n",
       "    }\n",
       "</style>\n",
       "<table border=\"1\" class=\"dataframe\">\n",
       "  <thead>\n",
       "    <tr style=\"text-align: right;\">\n",
       "      <th></th>\n",
       "      <th>state</th>\n",
       "      <th>neighborhood</th>\n",
       "    </tr>\n",
       "  </thead>\n",
       "  <tbody>\n",
       "    <tr>\n",
       "      <th>4</th>\n",
       "      <td>Capital Federal</td>\n",
       "      <td>Chacarita</td>\n",
       "    </tr>\n",
       "    <tr>\n",
       "      <th>9</th>\n",
       "      <td>Capital Federal</td>\n",
       "      <td>Villa Luro</td>\n",
       "    </tr>\n",
       "    <tr>\n",
       "      <th>29</th>\n",
       "      <td>Capital Federal</td>\n",
       "      <td>Caballito</td>\n",
       "    </tr>\n",
       "    <tr>\n",
       "      <th>40</th>\n",
       "      <td>Capital Federal</td>\n",
       "      <td>Constitución</td>\n",
       "    </tr>\n",
       "    <tr>\n",
       "      <th>41</th>\n",
       "      <td>Capital Federal</td>\n",
       "      <td>Once</td>\n",
       "    </tr>\n",
       "  </tbody>\n",
       "</table>\n",
       "</div>"
      ],
      "text/plain": [
       "              state  neighborhood\n",
       "4   Capital Federal     Chacarita\n",
       "9   Capital Federal    Villa Luro\n",
       "29  Capital Federal     Caballito\n",
       "40  Capital Federal  Constitución\n",
       "41  Capital Federal          Once"
      ]
     },
     "execution_count": 12,
     "metadata": {},
     "output_type": "execute_result"
    }
   ],
   "source": [
    "df_object=df.select_dtypes(include='object')\n",
    "df_object.head()"
   ]
  },
  {
   "cell_type": "code",
   "execution_count": 13,
   "id": "2f999f16",
   "metadata": {},
   "outputs": [],
   "source": [
    "#df_object['property_type'].value_counts()"
   ]
  },
  {
   "cell_type": "code",
   "execution_count": 14,
   "id": "67736472",
   "metadata": {},
   "outputs": [],
   "source": [
    "#df_object['operation'].value_counts()"
   ]
  },
  {
   "cell_type": "code",
   "execution_count": 15,
   "id": "eab9da6e",
   "metadata": {},
   "outputs": [],
   "source": [
    "#df_object['currency'].value_counts()"
   ]
  },
  {
   "cell_type": "code",
   "execution_count": 16,
   "id": "531dd531",
   "metadata": {},
   "outputs": [],
   "source": [
    "#df_object['properati_url'].value_counts()"
   ]
  },
  {
   "cell_type": "code",
   "execution_count": 17,
   "id": "c4b06646",
   "metadata": {},
   "outputs": [],
   "source": [
    "#df_object['state'].value_counts()"
   ]
  },
  {
   "cell_type": "code",
   "execution_count": 18,
   "id": "8b5c6061",
   "metadata": {},
   "outputs": [],
   "source": [
    "#df_object['neighborhood'].value_counts()"
   ]
  },
  {
   "cell_type": "code",
   "execution_count": 19,
   "id": "94ef9e24",
   "metadata": {},
   "outputs": [],
   "source": [
    "#modifying wrangle function to drop low and high cardinality columns"
   ]
  },
  {
   "cell_type": "markdown",
   "id": "b89dcdab",
   "metadata": {},
   "source": [
    "### Split"
   ]
  },
  {
   "cell_type": "code",
   "execution_count": 20,
   "id": "8795624e",
   "metadata": {},
   "outputs": [],
   "source": [
    "target = \"price_aprox_usd\"\n",
    "predictor=['surface_covered_in_m2','lat','lon','neighborhood']\n",
    "X_train=df[predictor]\n",
    "y_train=df[target]"
   ]
  },
  {
   "cell_type": "markdown",
   "id": "05597aaa",
   "metadata": {},
   "source": [
    "### Baseline "
   ]
  },
  {
   "cell_type": "code",
   "execution_count": 21,
   "id": "1d3b3a36",
   "metadata": {},
   "outputs": [],
   "source": [
    "y_mean=y_train.mean()"
   ]
  },
  {
   "cell_type": "code",
   "execution_count": 22,
   "id": "2a0b8cdd",
   "metadata": {},
   "outputs": [],
   "source": [
    "y_base=[y_mean]*len(y_train)"
   ]
  },
  {
   "cell_type": "code",
   "execution_count": 23,
   "id": "7dbf60ca",
   "metadata": {},
   "outputs": [
    {
     "name": "stdout",
     "output_type": "stream",
     "text": [
      "Mean apt price: 132383.83701458527\n",
      "Baseline MAE: 44860.10834274134\n"
     ]
    }
   ],
   "source": [
    "base_mae=mean_absolute_error(y_base,y_train)\n",
    "print(\"Mean apt price:\", y_mean)\n",
    "\n",
    "print(\"Baseline MAE:\", base_mae)"
   ]
  },
  {
   "cell_type": "markdown",
   "id": "0a8d1c08",
   "metadata": {},
   "source": [
    "### Pipeline"
   ]
  },
  {
   "cell_type": "code",
   "execution_count": 24,
   "id": "75f91513",
   "metadata": {},
   "outputs": [
    {
     "data": {
      "text/plain": [
       "Pipeline(steps=[('onehotencoder', OneHotEncoder(cols=['neighborhood'])),\n",
       "                ('simpleimputer', SimpleImputer()), ('ridge', Ridge())])"
      ]
     },
     "execution_count": 24,
     "metadata": {},
     "output_type": "execute_result"
    }
   ],
   "source": [
    "model = make_pipeline(OneHotEncoder(),SimpleImputer(),Ridge())\n",
    "model.fit(X_train,y_train)"
   ]
  },
  {
   "cell_type": "code",
   "execution_count": 25,
   "id": "6df3041a",
   "metadata": {},
   "outputs": [],
   "source": [
    "y_pred_train=model.predict(X_train)"
   ]
  },
  {
   "cell_type": "code",
   "execution_count": 26,
   "id": "45c4b798",
   "metadata": {},
   "outputs": [
    {
     "data": {
      "text/plain": [
       "array([161161.31914386,  91309.519214  , 130441.28527109, ...,\n",
       "        80779.62249321,  93662.14427993,  94474.33810382])"
      ]
     },
     "execution_count": 26,
     "metadata": {},
     "output_type": "execute_result"
    }
   ],
   "source": [
    "y_pred_train"
   ]
  },
  {
   "cell_type": "markdown",
   "id": "7a39eb46",
   "metadata": {},
   "source": [
    "### Evaluate model"
   ]
  },
  {
   "cell_type": "code",
   "execution_count": 27,
   "id": "88e7f2e0",
   "metadata": {},
   "outputs": [
    {
     "name": "stdout",
     "output_type": "stream",
     "text": [
      "Training MAE: 24207.107190330244\n"
     ]
    }
   ],
   "source": [
    "y_train_mae=mean_absolute_error(y_train,y_pred_train)\n",
    "print(\"Training MAE:\", y_train_mae)"
   ]
  },
  {
   "cell_type": "markdown",
   "id": "0fb0fb2e",
   "metadata": {},
   "source": [
    "### Test model"
   ]
  },
  {
   "cell_type": "code",
   "execution_count": 28,
   "id": "0ecc0daa",
   "metadata": {},
   "outputs": [
    {
     "data": {
      "text/plain": [
       "0    231122.403569\n",
       "1    162572.942392\n",
       "2     68477.949626\n",
       "3     63521.438989\n",
       "4    105694.463885\n",
       "dtype: float64"
      ]
     },
     "execution_count": 28,
     "metadata": {},
     "output_type": "execute_result"
    }
   ],
   "source": [
    "X_test = pd.read_excel(\"/Users/bambino/Documents/DATASETS/Buenos-aires_realestate-testfeatures.xlsx\")\n",
    "y_pred_test = pd.Series(model.predict(X_test))\n",
    "y_pred_test.head()"
   ]
  },
  {
   "cell_type": "markdown",
   "id": "07384c8f",
   "metadata": {},
   "source": [
    "### Deployment"
   ]
  },
  {
   "cell_type": "code",
   "execution_count": 29,
   "id": "739ef338",
   "metadata": {},
   "outputs": [],
   "source": [
    "def make_prediction(area, lat, lon, neighborhood):\n",
    "    data={\n",
    "        'surface_covered_in_m2':area,\n",
    "        'lat':lat,\n",
    "        'lon':lon,\n",
    "        'neighborhood':neighborhood\n",
    "    }\n",
    "    df=pd.DataFrame(data,index=[0])\n",
    "    prediction = model.predict(df).round(2)[0]\n",
    "    return f\"Predicted apartment price: ${prediction}\""
   ]
  },
  {
   "cell_type": "code",
   "execution_count": 30,
   "id": "959d8b6a",
   "metadata": {},
   "outputs": [
    {
     "data": {
      "text/plain": [
       "'Predicted apartment price: $238377.7'"
      ]
     },
     "execution_count": 30,
     "metadata": {},
     "output_type": "execute_result"
    }
   ],
   "source": [
    "make_prediction(110.0,-34.584651,-58.454693,'Barracas')"
   ]
  },
  {
   "cell_type": "code",
   "execution_count": 31,
   "id": "9c444ea4",
   "metadata": {},
   "outputs": [
    {
     "data": {
      "text/plain": [
       "'Predicted apartment price: $304824.81'"
      ]
     },
     "execution_count": 31,
     "metadata": {},
     "output_type": "execute_result"
    }
   ],
   "source": [
    "make_prediction(150.0,-34.610610,-58.412511,'Once')"
   ]
  },
  {
   "cell_type": "code",
   "execution_count": 32,
   "id": "a692fdaa",
   "metadata": {},
   "outputs": [
    {
     "data": {
      "text/plain": [
       "'Predicted apartment price: $453378.48'"
      ]
     },
     "execution_count": 32,
     "metadata": {},
     "output_type": "execute_result"
    }
   ],
   "source": [
    "make_prediction(200,-34.615847,-58.459957,'Caballito')"
   ]
  },
  {
   "cell_type": "markdown",
   "id": "7de8bdb8",
   "metadata": {},
   "source": [
    "### Deployment with an interactive dashboard"
   ]
  },
  {
   "cell_type": "code",
   "execution_count": 33,
   "id": "e29b42c9",
   "metadata": {},
   "outputs": [],
   "source": [
    "from ipywidgets import Dropdown, FloatSlider, IntSlider, interact\n"
   ]
  },
  {
   "cell_type": "code",
   "execution_count": 35,
   "id": "262bafa1",
   "metadata": {},
   "outputs": [
    {
     "data": {
      "application/vnd.jupyter.widget-view+json": {
       "model_id": "b43ad9b00a2c49cea31825b63c01240c",
       "version_major": 2,
       "version_minor": 0
      },
      "text/plain": [
       "interactive(children=(IntSlider(value=53, description='area', max=101, min=30), FloatSlider(value=-34.59890626…"
      ]
     },
     "metadata": {},
     "output_type": "display_data"
    }
   ],
   "source": [
    "interact(\n",
    "    make_prediction,\n",
    "    area=IntSlider(\n",
    "        min=X_train[\"surface_covered_in_m2\"].min(),\n",
    "        max=X_train[\"surface_covered_in_m2\"].max(),\n",
    "        value=X_train[\"surface_covered_in_m2\"].mean(),\n",
    "    ),\n",
    "    lat=FloatSlider(\n",
    "        min=X_train[\"lat\"].min(),\n",
    "        max=X_train[\"lat\"].max(),\n",
    "        step=0.01,\n",
    "        value=X_train[\"lat\"].mean(),\n",
    "    ),\n",
    "    lon=FloatSlider(\n",
    "        min=X_train[\"lon\"].min(),\n",
    "        max=X_train[\"lon\"].max(),\n",
    "        step=0.01,\n",
    "        value=X_train[\"lon\"].mean(),\n",
    "    ),\n",
    "    neighborhood=Dropdown(options=sorted(X_train[\"neighborhood\"].unique())),\n",
    ");"
   ]
  }
 ],
 "metadata": {
  "kernelspec": {
   "display_name": "Python 3",
   "language": "python",
   "name": "python3"
  },
  "language_info": {
   "codemirror_mode": {
    "name": "ipython",
    "version": 3
   },
   "file_extension": ".py",
   "mimetype": "text/x-python",
   "name": "python",
   "nbconvert_exporter": "python",
   "pygments_lexer": "ipython3",
   "version": "3.8.8"
  }
 },
 "nbformat": 4,
 "nbformat_minor": 5
}
